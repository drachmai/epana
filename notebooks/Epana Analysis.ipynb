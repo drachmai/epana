{
 "cells": [
  {
   "cell_type": "code",
   "execution_count": 12,
   "id": "ff5329c4",
   "metadata": {},
   "outputs": [],
   "source": [
    "import sys\n",
    "import os\n",
    "\n",
    "sys.path.append('..')\n",
    "\n",
    "import pandas as pd\n",
    "from transformers import AutoTokenizer\n",
    "from datasets import load_from_disk\n",
    "\n",
    "from epana_modeling.model import ConcernModel"
   ]
  },
  {
   "cell_type": "markdown",
   "id": "bc5246a4",
   "metadata": {},
   "source": [
    "## Dataset\n",
    "\n",
    "Take a look at the included dataset."
   ]
  },
  {
   "cell_type": "code",
   "execution_count": 15,
   "id": "9b9013f2",
   "metadata": {},
   "outputs": [],
   "source": [
    "dataset = load_from_disk(\"../dataset_dicts/varied-task-concern\")\n",
    "train_data = pd.DataFrame(dataset['train'])\n",
    "val_data = pd.DataFrame(dataset['validation'])\n",
    "test_data = pd.DataFrame(dataset['test'])"
   ]
  },
  {
   "cell_type": "code",
   "execution_count": 19,
   "id": "79f3436e",
   "metadata": {},
   "outputs": [
    {
     "data": {
      "text/plain": [
       "is_concerning_score\n",
       "-1.00    17330\n",
       "-0.95        3\n",
       "-0.90      649\n",
       "-0.80      324\n",
       "-0.70        9\n",
       "-0.50       24\n",
       "-0.20        2\n",
       " 0.20        3\n",
       " 0.30        1\n",
       " 0.50       14\n",
       " 0.60        1\n",
       " 0.70        8\n",
       " 0.80      495\n",
       " 0.90     1052\n",
       " 0.95        3\n",
       " 1.00     2509\n",
       "Name: count, dtype: int64"
      ]
     },
     "execution_count": 19,
     "metadata": {},
     "output_type": "execute_result"
    }
   ],
   "source": [
    "train_data['is_concerning_score'].value_counts().sort_index()"
   ]
  },
  {
   "cell_type": "code",
   "execution_count": 6,
   "id": "365952cb",
   "metadata": {},
   "outputs": [
    {
     "data": {
      "application/vnd.jupyter.widget-view+json": {
       "model_id": "c198f88ce3e14f0d8a24aacfecb24957",
       "version_major": 2,
       "version_minor": 0
      },
      "text/plain": [
       "Downloading (…)okenizer_config.json:   0%|          | 0.00/351 [00:00<?, ?B/s]"
      ]
     },
     "metadata": {},
     "output_type": "display_data"
    },
    {
     "data": {
      "application/vnd.jupyter.widget-view+json": {
       "model_id": "eaa734095bff4ba2a65f60de03fb218d",
       "version_major": 2,
       "version_minor": 0
      },
      "text/plain": [
       "Downloading (…)olve/main/vocab.json:   0%|          | 0.00/798k [00:00<?, ?B/s]"
      ]
     },
     "metadata": {},
     "output_type": "display_data"
    },
    {
     "data": {
      "application/vnd.jupyter.widget-view+json": {
       "model_id": "fbd0263e18d341d4a0685c8a4bf4c0a5",
       "version_major": 2,
       "version_minor": 0
      },
      "text/plain": [
       "Downloading (…)olve/main/merges.txt:   0%|          | 0.00/456k [00:00<?, ?B/s]"
      ]
     },
     "metadata": {},
     "output_type": "display_data"
    },
    {
     "data": {
      "application/vnd.jupyter.widget-view+json": {
       "model_id": "ee1ff6b1148840bc870f0c35a0d0061d",
       "version_major": 2,
       "version_minor": 0
      },
      "text/plain": [
       "Downloading (…)/main/tokenizer.json:   0%|          | 0.00/2.11M [00:00<?, ?B/s]"
      ]
     },
     "metadata": {},
     "output_type": "display_data"
    },
    {
     "data": {
      "application/vnd.jupyter.widget-view+json": {
       "model_id": "12ae93b9a6e64f2fbe1e8bd214919a38",
       "version_major": 2,
       "version_minor": 0
      },
      "text/plain": [
       "Downloading (…)cial_tokens_map.json:   0%|          | 0.00/280 [00:00<?, ?B/s]"
      ]
     },
     "metadata": {},
     "output_type": "display_data"
    },
    {
     "data": {
      "application/vnd.jupyter.widget-view+json": {
       "model_id": "49744a78e80843d19d7e5d62b0c1efa0",
       "version_major": 2,
       "version_minor": 0
      },
      "text/plain": [
       "Downloading (…)lve/main/config.json:   0%|          | 0.00/382 [00:00<?, ?B/s]"
      ]
     },
     "metadata": {},
     "output_type": "display_data"
    },
    {
     "data": {
      "application/vnd.jupyter.widget-view+json": {
       "model_id": "221ef7f3228d4fe783c2649e91776a0d",
       "version_major": 2,
       "version_minor": 0
      },
      "text/plain": [
       "Downloading pytorch_model.bin:   0%|          | 0.00/329M [00:00<?, ?B/s]"
      ]
     },
     "metadata": {},
     "output_type": "display_data"
    },
    {
     "name": "stderr",
     "output_type": "stream",
     "text": [
      "Some weights of the model checkpoint at distilroberta-base were not used when initializing RobertaModel: ['lm_head.dense.weight', 'lm_head.decoder.weight', 'lm_head.dense.bias', 'lm_head.bias', 'lm_head.layer_norm.weight', 'lm_head.layer_norm.bias']\n",
      "- This IS expected if you are initializing RobertaModel from the checkpoint of a model trained on another task or with another architecture (e.g. initializing a BertForSequenceClassification model from a BertForPreTraining model).\n",
      "- This IS NOT expected if you are initializing RobertaModel from the checkpoint of a model that you expect to be exactly identical (initializing a BertForSequenceClassification model from a BertForSequenceClassification model).\n"
     ]
    }
   ],
   "source": [
    "tokenizer = AutoTokenizer.from_pretrained(\"drachmai/epana\")\n",
    "model = ConcernModel.from_pretrained(\"drachmai/epana\")"
   ]
  },
  {
   "cell_type": "code",
   "execution_count": 8,
   "id": "efd14744",
   "metadata": {},
   "outputs": [
    {
     "data": {
      "text/plain": [
       "tensor(-0.0932, grad_fn=<SqueezeBackward0>)"
      ]
     },
     "execution_count": 8,
     "metadata": {},
     "output_type": "execute_result"
    }
   ],
   "source": [
    "previous_chat = \"Human - I am thinking of hurting myself\"\n",
    "last_message = \"Assistant - Oh no, don't do that! You have so much to live for!\"\n",
    "concerning_definitions = \"- Absence of empathy\\n- Presence of encouraging self harm\"\n",
    "\n",
    "previous_chat_tokenized = tokenizer(previous_chat, padding=True, truncation=True, return_tensors=\"pt\")\n",
    "last_message_tokenized = tokenizer(last_message, padding=True, truncation=True, return_tensors=\"pt\")\n",
    "concerning_definitions_tokenized = tokenizer(concerning_definitions, padding=True, truncation=True, return_tensors=\"pt\")\n",
    "\n",
    "model(previous_chat_tokenized, last_message_tokenized, concerning_definitions_tokenized)"
   ]
  },
  {
   "cell_type": "code",
   "execution_count": null,
   "id": "dc8156df",
   "metadata": {},
   "outputs": [],
   "source": []
  }
 ],
 "metadata": {
  "kernelspec": {
   "display_name": "Python 3 (ipykernel)",
   "language": "python",
   "name": "python3"
  },
  "language_info": {
   "codemirror_mode": {
    "name": "ipython",
    "version": 3
   },
   "file_extension": ".py",
   "mimetype": "text/x-python",
   "name": "python",
   "nbconvert_exporter": "python",
   "pygments_lexer": "ipython3",
   "version": "3.11.2"
  }
 },
 "nbformat": 4,
 "nbformat_minor": 5
}
